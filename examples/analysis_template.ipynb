{
 "cells": [
  {
   "cell_type": "markdown",
   "id": "5c09fece7eca8a3c",
   "metadata": {
    "collapsed": false,
    "jupyter": {
     "outputs_hidden": false
    }
   },
   "source": [
    "# Template for CLEM segmentation\n",
    "\n",
    "This template contains the basic steps for CLEM analysis.\n",
    "1. Stitch EM image(s)\n",
    "2. Invert EM image(s)\n",
    "3. Register (correlate) EM and LM images\n",
    "4. Define Cell Mask\n",
    "5. Segment EM images\n",
    "    5.1 Automatically segment EM images using AI (Mask-RCNN)\n",
    "    5.2 Manually correct (or create from scratch) segmentation\n",
    "6. Get statistics"
   ]
  },
  {
   "cell_type": "markdown",
   "id": "df559dabc2207c95",
   "metadata": {
    "collapsed": false,
    "jupyter": {
     "outputs_hidden": false
    }
   },
   "source": [
    "## 1. Stitch EM \n",
    "EM images are aquired in multiple tiles using SerialEM (in the Taraska-Lab at NHLBI, NIH).\n",
    "The first step of image analysis is stitching of the tiles to form a single image. This is done in IMOD using sloppyblend.\n",
    "\n",
    "**--> A custom-written bash script by Dr Sochacki can be pulled from local gitlab repository linux_batch_EMstitching.**\n",
    "\n",
    "Notes:\n",
    " - Must have IMOD installed\n",
    "  - Use IMOD version 4.11 or higher!\n",
    "    In older versions, the pixel spacing is saved in dots/inch instead of dots/centimeter which creates problems when reading pixel size from metadata in the rest of the analysis pipeline.\n",
    "  - If you have an older IMOD version installed, you can circumvent this problem by manually updating the pixel size to µm units in FIJI.\n",
    "    Open image in FIJI > Analyze > Set Scale... > set the correct pixel size and unit > OK"
   ]
  },
  {
   "cell_type": "markdown",
   "id": "c049727229548626",
   "metadata": {
    "collapsed": false,
    "jupyter": {
     "outputs_hidden": false
    }
   },
   "source": [
    "## 2. Invert EM-image(s)\n",
    "Historically, we have used inverted PREM images for CLEM analysis.\n",
    "The ai-based segmentation is trained on inverted images and most of the code in the pyclem package expects inverted images.\n",
    "\n",
    "For further analysis, file names for EM-images should end with \"_inv.tif\"\n",
    "\n",
    "- You can invert images using FIJI:\n",
    "    1. Open image in FIJI\n",
    "    2. Edit > Invert\n",
    "    3. Save image\n",
    "\n",
    "- **Or use the python script for batch-processing included in pyclem (see below)**\n",
    "    </br>\n",
    "    The code uses regular expression patterns to find all files in a directory matching a certain pattern.\n",
    "    --> To (VERY briefly) learn about regular expressions, see: https://www.dataquest.io/blog/regex-cheatsheet/"
   ]
  },
  {
   "cell_type": "code",
   "execution_count": 3,
   "id": "603a053155357229",
   "metadata": {
    "collapsed": false,
    "jupyter": {
     "outputs_hidden": false
    }
   },
   "outputs": [
    {
     "name": "stderr",
     "output_type": "stream",
     "text": [
      "/home/michalakdj/mambaforge/envs/pyclem-env/lib/python3.10/site-packages/aicsimageio/readers/tiff_reader.py:148: UserWarning: Could not parse tiff pixel size: 'XResolution'\n",
      "  warnings.warn(f\"Could not parse tiff pixel size: {e}\")\n",
      "/home/michalakdj/mambaforge/envs/pyclem-env/lib/python3.10/site-packages/aicsimageio/readers/tiff_reader.py:148: UserWarning: Could not parse tiff pixel size: 'XResolution'\n",
      "  warnings.warn(f\"Could not parse tiff pixel size: {e}\")\n",
      "/home/michalakdj/mambaforge/envs/pyclem-env/lib/python3.10/site-packages/aicsimageio/readers/tiff_reader.py:148: UserWarning: Could not parse tiff pixel size: 'XResolution'\n",
      "  warnings.warn(f\"Could not parse tiff pixel size: {e}\")\n"
     ]
    },
    {
     "ename": "KeyboardInterrupt",
     "evalue": "",
     "output_type": "error",
     "traceback": [
      "\u001b[0;31m---------------------------------------------------------------------------\u001b[0m",
      "\u001b[0;31mKeyboardInterrupt\u001b[0m                         Traceback (most recent call last)",
      "\u001b[0;32m/tmp/ipykernel_1507441/2254259389.py\u001b[0m in \u001b[0;36m<cell line: 15>\u001b[0;34m()\u001b[0m\n\u001b[1;32m     13\u001b[0m \u001b[0mfilenames\u001b[0m \u001b[0;34m=\u001b[0m \u001b[0;34m[\u001b[0m\u001b[0mPath\u001b[0m\u001b[0;34m(\u001b[0m\u001b[0mparent_directory\u001b[0m\u001b[0;34m,\u001b[0m \u001b[0mfilename\u001b[0m\u001b[0;34m)\u001b[0m \u001b[0;32mfor\u001b[0m \u001b[0mfilename\u001b[0m \u001b[0;32min\u001b[0m \u001b[0mfilenames\u001b[0m\u001b[0;34m]\u001b[0m\u001b[0;34m\u001b[0m\u001b[0;34m\u001b[0m\u001b[0m\n\u001b[1;32m     14\u001b[0m \u001b[0;31m# Invert images\u001b[0m\u001b[0;34m\u001b[0m\u001b[0;34m\u001b[0m\u001b[0m\n\u001b[0;32m---> 15\u001b[0;31m \u001b[0minvert_and_save\u001b[0m\u001b[0;34m(\u001b[0m\u001b[0mfn\u001b[0m\u001b[0;34m=\u001b[0m\u001b[0mfilenames\u001b[0m\u001b[0;34m)\u001b[0m\u001b[0;34m\u001b[0m\u001b[0;34m\u001b[0m\u001b[0m\n\u001b[0m\u001b[1;32m     16\u001b[0m \u001b[0mprint\u001b[0m\u001b[0;34m(\u001b[0m\u001b[0;34m'Done!'\u001b[0m\u001b[0;34m)\u001b[0m\u001b[0;34m\u001b[0m\u001b[0;34m\u001b[0m\u001b[0m\n",
      "\u001b[0;32m~/mambaforge/envs/pyclem-env/lib/python3.10/site-packages/pyclem/scripts.py\u001b[0m in \u001b[0;36minvert_and_save\u001b[0;34m(fn)\u001b[0m\n\u001b[1;32m    205\u001b[0m         \u001b[0;31m# Save inverted image (including pixel sizes)\u001b[0m\u001b[0;34m\u001b[0m\u001b[0;34m\u001b[0m\u001b[0m\n\u001b[1;32m    206\u001b[0m         \u001b[0mnew_fn\u001b[0m \u001b[0;34m=\u001b[0m \u001b[0mfile\u001b[0m\u001b[0;34m.\u001b[0m\u001b[0mwith_name\u001b[0m\u001b[0;34m(\u001b[0m\u001b[0mfile\u001b[0m\u001b[0;34m.\u001b[0m\u001b[0mstem\u001b[0m \u001b[0;34m+\u001b[0m \u001b[0;34m'_inv'\u001b[0m \u001b[0;34m+\u001b[0m \u001b[0mfile\u001b[0m\u001b[0;34m.\u001b[0m\u001b[0msuffix\u001b[0m\u001b[0;34m)\u001b[0m\u001b[0;34m\u001b[0m\u001b[0;34m\u001b[0m\u001b[0m\n\u001b[0;32m--> 207\u001b[0;31m         OmeTiffWriter.save(data=invert(image.data), uri=new_fn,\n\u001b[0m\u001b[1;32m    208\u001b[0m                            physical_pixel_sizes=image.physical_pixel_sizes)\n\u001b[1;32m    209\u001b[0m \u001b[0;34m\u001b[0m\u001b[0m\n",
      "\u001b[0;32m~/mambaforge/envs/pyclem-env/lib/python3.10/site-packages/aicsimageio/writers/ome_tiff_writer.py\u001b[0m in \u001b[0;36msave\u001b[0;34m(data, uri, dim_order, ome_xml, channel_names, image_name, physical_pixel_sizes, channel_colors, fs_kwargs, **kwargs)\u001b[0m\n\u001b[1;32m    296\u001b[0m                 )\n\u001b[1;32m    297\u001b[0m                 \u001b[0mplanarconfig\u001b[0m \u001b[0;34m=\u001b[0m \u001b[0mTIFF\u001b[0m\u001b[0;34m.\u001b[0m\u001b[0mPLANARCONFIG\u001b[0m\u001b[0;34m.\u001b[0m\u001b[0mCONTIG\u001b[0m \u001b[0;32mif\u001b[0m \u001b[0mis_rgb\u001b[0m \u001b[0;32melse\u001b[0m \u001b[0;32mNone\u001b[0m\u001b[0;34m\u001b[0m\u001b[0;34m\u001b[0m\u001b[0m\n\u001b[0;32m--> 298\u001b[0;31m                 tif.write(\n\u001b[0m\u001b[1;32m    299\u001b[0m                     \u001b[0mimage_data\u001b[0m\u001b[0;34m,\u001b[0m\u001b[0;34m\u001b[0m\u001b[0;34m\u001b[0m\u001b[0m\n\u001b[1;32m    300\u001b[0m                     \u001b[0mdescription\u001b[0m\u001b[0;34m=\u001b[0m\u001b[0mdescription\u001b[0m\u001b[0;34m,\u001b[0m\u001b[0;34m\u001b[0m\u001b[0;34m\u001b[0m\u001b[0m\n",
      "\u001b[0;32m~/mambaforge/envs/pyclem-env/lib/python3.10/site-packages/tifffile/tifffile.py\u001b[0m in \u001b[0;36mwrite\u001b[0;34m(***failed resolving arguments***)\u001b[0m\n\u001b[1;32m   2698\u001b[0m                     \u001b[0mmaxworkers\u001b[0m\u001b[0;34m,\u001b[0m \u001b[0mnumstrips\u001b[0m\u001b[0;34m,\u001b[0m \u001b[0mstripsize\u001b[0m\u001b[0;34m,\u001b[0m \u001b[0mcompressiontag\u001b[0m\u001b[0;34m\u001b[0m\u001b[0;34m\u001b[0m\u001b[0m\n\u001b[1;32m   2699\u001b[0m                 )\n\u001b[0;32m-> 2700\u001b[0;31m                 for stripindex, chunk in enumerate(\n\u001b[0m\u001b[1;32m   2701\u001b[0m                     encode_strips(\n\u001b[1;32m   2702\u001b[0m                         \u001b[0mpagedata\u001b[0m\u001b[0;34m,\u001b[0m\u001b[0;34m\u001b[0m\u001b[0;34m\u001b[0m\u001b[0m\n",
      "\u001b[0;32m~/mambaforge/envs/pyclem-env/lib/python3.10/site-packages/tifffile/tifffile.py\u001b[0m in \u001b[0;36mencode_strips\u001b[0;34m(pagedata, encode, rowsperstrip, maxworkers)\u001b[0m\n\u001b[1;32m  16959\u001b[0m     ):\n\u001b[1;32m  16960\u001b[0m         \u001b[0;32mfor\u001b[0m \u001b[0mstrip\u001b[0m \u001b[0;32min\u001b[0m \u001b[0mstrips\u001b[0m\u001b[0;34m(\u001b[0m\u001b[0;34m)\u001b[0m\u001b[0;34m:\u001b[0m\u001b[0;34m\u001b[0m\u001b[0;34m\u001b[0m\u001b[0m\n\u001b[0;32m> 16961\u001b[0;31m             \u001b[0;32myield\u001b[0m \u001b[0mencode\u001b[0m\u001b[0;34m(\u001b[0m\u001b[0mstrip\u001b[0m\u001b[0;34m)\u001b[0m\u001b[0;34m\u001b[0m\u001b[0;34m\u001b[0m\u001b[0m\n\u001b[0m\u001b[1;32m  16962\u001b[0m         \u001b[0;32mreturn\u001b[0m\u001b[0;34m\u001b[0m\u001b[0;34m\u001b[0m\u001b[0m\n\u001b[1;32m  16963\u001b[0m \u001b[0;34m\u001b[0m\u001b[0m\n",
      "\u001b[0;31mKeyboardInterrupt\u001b[0m: "
     ]
    }
   ],
   "source": [
    "from pathlib import Path\n",
    "from pyclem.file_io import get_files\n",
    "from pyclem.scripts import invert_and_save\n",
    "\n",
    "# Define path to directory with EM images\n",
    "parent_directory = r'/mnt/storage/data/prem/20250226_gb1_D1-D2/mdamb231_pitstop2_D1D2/blended_tifs'\n",
    "# Define regular expression pattern to match the filenames of YOUR EM-images\n",
    "filename_pattern = r'.*cell.*\\.tif$'\n",
    "\n",
    "# Retrieve names of all files in the directory matching the pattern\n",
    "filenames, _ = get_files(subdir=parent_directory, pattern=filename_pattern)\n",
    "# Add parent directory to filenames to get full paths\n",
    "filenames = [Path(parent_directory, filename) for filename in filenames]\n",
    "# Invert images\n",
    "invert_and_save(fn=filenames)\n",
    "print('Done!')"
   ]
  },
  {
   "cell_type": "markdown",
   "id": "4045e44b43afdeb7",
   "metadata": {
    "collapsed": false,
    "jupyter": {
     "outputs_hidden": false
    }
   },
   "source": [
    "## 3. Register (correlate) EM and LM images\n",
    "For image registration, I recommend using the plugin \"affinder\" for the open-source python image analysis software \"Napari\".\n",
    "\n",
    "Until the plugin is available in the official napari plugin repository, it can be installed from the local gitlab repository \"affinder\".\n",
    "To do so, follow these steps:\n",
    " - Open conda prompt\n",
    " - activate your pyclem environment\n",
    " - Install the plugin directly from github with:\n",
    "   - **python -m pip install git+https://github.com/jni/affinder.git**\n",
    " - Only do this once! The plugin will be available in napari from now on.\n",
    "\n",
    "To use the plugin:\n",
    "1. Open a napari viewer (see code below)\n",
    "2. Open images to register (eg. EM, TIRF and STORM image) using the aicsimageio plugin. This ensures that the images are opened with the correct metadata (most importantly the pixel size).\n",
    "    File > Open with plugin > Open File(s) > Open > select napari-aicsimageio as reader, when prompted\n",
    "3. Open the affinder plugin\n",
    "    Plugins > affinder > Start affinder\n",
    "4. Select EM image as reference and LM image as moving\n",
    "5. (Optional) Select location to save the transformation matrix\n",
    "6. Click **\"Start\"** to start the manual registration process\n",
    "7. Select three points in the reference image\n",
    "8. Select the corresponding three points in the moving image (**in the same order!**)\n",
    "    Affinder will perform a first calculation of the transformation matrix and apply it to the moving image\n",
    "9. From here, you can iteratively add single points to improve the registration\n",
    "10. When you are satisfied, click **\"Finish\"** to save the transformation matrix and exit the process.\n",
    "\n",
    "To copy transformation from one image to another (e.g. from TIRF to STORM):\n",
    "1. Open affinder widget to copy transformation\n",
    "    Plugins > affinder > Copy affine\n",
    "2. Set the already transformed image (e.g. TIRF) as src_layer and the untransformed image (e.g. STORM) as dst_layer\n",
    "3. Click **\"Copy\"** to apply the transformation to the dst_layer\n",
    "4. You can now use the \"Start affinder\" widget to further improve the registration, using the transformed image (e.g. STORM) as moving and the EM-image as reference.\n",
    "\n",
    "To apply the transformation to an image (creating a new image):\n",
    "1. Open affinder widget to apply transformation\n",
    "    Plugins > affinder > Apply affine\n",
    "2. Select the EM-image as reference layer and the transformed LM-image as moving layer\n",
    "3. Click **\"Apply\"** to create a new image with the transformation applied.\n",
    "4. You now use the built in napari functionality to save the new image.\n",
    "    File > Save Selected Layer(s)... > Save (use napari builtins lossless)\n",
    "\n",
    "To load previously saved transformation matrix:\n",
    "1. Open affinder widget to load transformation\n",
    "    Plugins > affinder > Load affine\n",
    "2. Select the image you want to transform (e.g. LM-image) as layer\n",
    "3. Select File to set the path to a saved transformation matrix\n",
    "4. Click **\"Load\"** to apply the transformation to the selected layer"
   ]
  },
  {
   "cell_type": "code",
   "execution_count": 1,
   "id": "5b2abb2c20c4bcae",
   "metadata": {
    "collapsed": false,
    "jupyter": {
     "outputs_hidden": false
    }
   },
   "outputs": [],
   "source": [
    "import napari\n",
    "\n",
    "viewer = napari.Viewer()\n"
   ]
  },
  {
   "cell_type": "markdown",
   "id": "370f692f0ecc0352",
   "metadata": {
    "collapsed": false,
    "jupyter": {
     "outputs_hidden": false
    }
   },
   "source": [
    "## 4. Define Cell Mask\n",
    "Use the custom-written Napari widget cellmask_widget to create and save a binary cell mask.\n",
    "1. Open a napari viewer and add the widget (see code below)\n",
    "2. Select an (inverted) EM image from the widget.\n",
    "3. Click **\"Start\"**\n",
    "   - The image will be opened together with an empty shapes layer called \"Cell Mask\"\n",
    "   - When opening images, cellmask_widget will automatically rescale the image to a pixelsiize of x nm/pixel as defined by the slider.\n",
    "     This is to improve performance and reduce memory usage.\n",
    "4. Use Napari shapes functionalities to cover areas you want to **exclude** from analysis.\n",
    "5. When done, click **\"Finish and Save\"** to translate the shapes into a binary save it as a tif-file with the addendum \"..._cellmask.tif\"."
   ]
  },
  {
   "cell_type": "code",
   "execution_count": 2,
   "id": "1e782707b7f50dfe",
   "metadata": {
    "collapsed": false,
    "jupyter": {
     "outputs_hidden": false
    }
   },
   "outputs": [],
   "source": [
    "from pyclem.cellmask import cellmask_main\n",
    "\n",
    "cellmask_main()"
   ]
  },
  {
   "cell_type": "markdown",
   "id": "487308dcc16e5bb1",
   "metadata": {
    "collapsed": false,
    "jupyter": {
     "outputs_hidden": false
    }
   },
   "source": [
    "## 5.1 Automatically segment EM images using AI (Mask-RCNN)\n",
    "The segmentation of EM images is done using a Mask-RCNN model trained on manually segmented EM-images.\n",
    "The model is implemented in a custom-written python package called prem-segmentation.\n",
    "**--> see local gitlab repository PREM-seg**\n",
    "\n",
    "To this end, (inverted!) EM images are scaled to a pixelsize of 2.46 nm/px and split into overlapping tiles. Each tiles is then segmented utilizing the open source deep learning algorithm \"Mask R-CNN\". Segmented tiles are then scaled back to the original pixel size and stitched to a full image mask."
   ]
  },
  {
   "cell_type": "code",
   "execution_count": 1,
   "id": "9f0193f756d601a",
   "metadata": {
    "collapsed": false,
    "jupyter": {
     "outputs_hidden": false
    }
   },
   "outputs": [
    {
     "name": "stderr",
     "output_type": "stream",
     "text": [
      "2025-03-25 12:12:28.726605: I tensorflow/core/util/port.cc:111] oneDNN custom operations are on. You may see slightly different numerical results due to floating-point round-off errors from different computation orders. To turn them off, set the environment variable `TF_ENABLE_ONEDNN_OPTS=0`.\n",
      "2025-03-25 12:12:28.769517: E tensorflow/compiler/xla/stream_executor/cuda/cuda_dnn.cc:9342] Unable to register cuDNN factory: Attempting to register factory for plugin cuDNN when one has already been registered\n",
      "2025-03-25 12:12:28.769548: E tensorflow/compiler/xla/stream_executor/cuda/cuda_fft.cc:609] Unable to register cuFFT factory: Attempting to register factory for plugin cuFFT when one has already been registered\n",
      "2025-03-25 12:12:28.769584: E tensorflow/compiler/xla/stream_executor/cuda/cuda_blas.cc:1518] Unable to register cuBLAS factory: Attempting to register factory for plugin cuBLAS when one has already been registered\n",
      "2025-03-25 12:12:28.778386: I tensorflow/core/platform/cpu_feature_guard.cc:182] This TensorFlow binary is optimized to use available CPU instructions in performance-critical operations.\n",
      "To enable the following instructions: AVX2 AVX512F AVX512_VNNI FMA, in other operations, rebuild TensorFlow with the appropriate compiler flags.\n",
      "2025-03-25 12:12:31.092368: I tensorflow/core/common_runtime/gpu/gpu_device.cc:1886] Created device /job:localhost/replica:0/task:0/device:GPU:0 with 22341 MB memory:  -> device: 0, name: NVIDIA GeForce RTX 3090, pci bus id: 0000:18:00.0, compute capability: 8.6\n",
      "2025-03-25 12:12:31.094271: I tensorflow/core/common_runtime/gpu/gpu_device.cc:1886] Created device /job:localhost/replica:0/task:0/device:GPU:1 with 21741 MB memory:  -> device: 1, name: NVIDIA GeForce RTX 3090, pci bus id: 0000:3b:00.0, compute capability: 8.6\n",
      "2025-03-25 12:12:31.095806: I tensorflow/core/common_runtime/gpu/gpu_device.cc:1886] Created device /job:localhost/replica:0/task:0/device:GPU:2 with 22341 MB memory:  -> device: 2, name: NVIDIA GeForce RTX 3090, pci bus id: 0000:86:00.0, compute capability: 8.6\n",
      "2025-03-25 12:12:31.097462: I tensorflow/core/common_runtime/gpu/gpu_device.cc:1886] Created device /job:localhost/replica:0/task:0/device:GPU:3 with 22341 MB memory:  -> device: 3, name: NVIDIA GeForce RTX 3090, pci bus id: 0000:af:00.0, compute capability: 8.6\n"
     ]
    },
    {
     "name": "stdout",
     "output_type": "stream",
     "text": [
      "Run Mask R-CNN pre-processing!\n",
      "Splitting image into tiles for  mdamb231_pitstop2_D1_cell001_inv.tif\n",
      "Run Mask R-CNN segmentation!\n",
      "Command:  evaluate\n",
      "Model:  /mnt/storage/data/prem/models/mrcnn_pr_clathrin_v1.h5\n",
      "Dataset:  /mnt/storage/data/prem/20250226_gb1_D1-D2/mdamb231_pitstop2_D1D2/test_pyclem/Maskrcnn_evaluation\n",
      "Year:  2025\n",
      "Logs:  /mnt/storage/data/prem/20250226_gb1_D1-D2/mdamb231_pitstop2_D1D2/test_pyclem/Mask-RCNN_logs\n",
      "GPU:  1\n",
      "\n",
      "Configurations:\n",
      "BACKBONE                       resnet101\n",
      "BACKBONE_STRIDES               [4, 8, 16, 32, 64]\n",
      "BATCH_SIZE                     1\n",
      "BBOX_STD_DEV                   [0.1 0.1 0.2 0.2]\n",
      "COMPUTE_BACKBONE_SHAPE         None\n",
      "DETECTION_MAX_INSTANCES        35\n",
      "DETECTION_MIN_CONFIDENCE       0\n",
      "DETECTION_NMS_THRESHOLD        0.1\n",
      "FPN_CLASSIF_FC_LAYERS_SIZE     1024\n",
      "GPU_COUNT                      1\n",
      "GRADIENT_CLIP_NORM             5.0\n",
      "IMAGES_PER_GPU                 1\n",
      "IMAGE_CHANNEL_COUNT            3\n",
      "IMAGE_MAX_DIM                  512\n",
      "IMAGE_META_SIZE                16\n",
      "IMAGE_MIN_DIM                  512\n",
      "IMAGE_MIN_SCALE                0\n",
      "IMAGE_RESIZE_MODE              square\n",
      "IMAGE_SHAPE                    [512 512   3]\n",
      "LEARNING_MOMENTUM              0.9\n",
      "LEARNING_RATE                  0.02\n",
      "LOSS_WEIGHTS                   {'rpn_class_loss': 1.0, 'rpn_bbox_loss': 1.0, 'mrcnn_class_loss': 10.0, 'mrcnn_bbox_loss': 1.0, 'mrcnn_mask_loss': 1.0}\n",
      "MASK_POOL_SIZE                 14\n",
      "MASK_SHAPE                     [28, 28]\n",
      "MAX_GT_INSTANCES               100\n",
      "MEAN_PIXEL                     [123.7 116.8 103.9]\n",
      "MINI_MASK_SHAPE                (56, 56)\n",
      "NAME                           worm\n",
      "NUM_CLASSES                    4\n",
      "POOL_SIZE                      7\n",
      "POST_NMS_ROIS_INFERENCE        1000\n",
      "POST_NMS_ROIS_TRAINING         2000\n",
      "PRE_NMS_LIMIT                  6000\n",
      "ROI_POSITIVE_RATIO             0.33\n",
      "RPN_ANCHOR_RATIOS              [0.5, 1, 2]\n",
      "RPN_ANCHOR_SCALES              (8, 16, 32, 64, 128)\n",
      "RPN_ANCHOR_STRIDE              1\n",
      "RPN_BBOX_STD_DEV               [0.1 0.1 0.2 0.2]\n",
      "RPN_NMS_THRESHOLD              0.7\n",
      "RPN_TRAIN_ANCHORS_PER_IMAGE    256\n",
      "STEPS_PER_EPOCH                300\n",
      "TOP_DOWN_PYRAMID_SIZE          256\n",
      "TRAIN_BN                       False\n",
      "TRAIN_ROIS_PER_IMAGE           200\n",
      "USE_MINI_MASK                  False\n",
      "USE_RPN_ROIS                   True\n",
      "VALIDATION_STEPS               100\n",
      "WEIGHT_DECAY                   0.0001\n",
      "\n",
      "\n",
      "WARNING:tensorflow:From /home/michalakdj/mambaforge/envs/pyclem-env/lib/python3.10/site-packages/tensorflow/python/util/deprecation.py:660: calling map_fn_v2 (from tensorflow.python.ops.map_fn) with dtype is deprecated and will be removed in a future version.\n",
      "Instructions for updating:\n",
      "Use fn_output_signature instead\n"
     ]
    },
    {
     "name": "stderr",
     "output_type": "stream",
     "text": [
      "2025-03-25 12:13:40.383353: I tensorflow/core/common_runtime/gpu/gpu_device.cc:1886] Created device /job:localhost/replica:0/task:0/device:GPU:0 with 22341 MB memory:  -> device: 0, name: NVIDIA GeForce RTX 3090, pci bus id: 0000:18:00.0, compute capability: 8.6\n",
      "2025-03-25 12:13:40.389702: I tensorflow/core/common_runtime/gpu/gpu_device.cc:1886] Created device /job:localhost/replica:0/task:0/device:GPU:1 with 21741 MB memory:  -> device: 1, name: NVIDIA GeForce RTX 3090, pci bus id: 0000:3b:00.0, compute capability: 8.6\n",
      "2025-03-25 12:13:40.392505: I tensorflow/core/common_runtime/gpu/gpu_device.cc:1886] Created device /job:localhost/replica:0/task:0/device:GPU:2 with 22341 MB memory:  -> device: 2, name: NVIDIA GeForce RTX 3090, pci bus id: 0000:86:00.0, compute capability: 8.6\n",
      "2025-03-25 12:13:40.395321: I tensorflow/core/common_runtime/gpu/gpu_device.cc:1886] Created device /job:localhost/replica:0/task:0/device:GPU:3 with 22341 MB memory:  -> device: 3, name: NVIDIA GeForce RTX 3090, pci bus id: 0000:af:00.0, compute capability: 8.6\n"
     ]
    },
    {
     "name": "stdout",
     "output_type": "stream",
     "text": [
      "Loading weights  /mnt/storage/data/prem/models/mrcnn_pr_clathrin_v1.h5\n"
     ]
    },
    {
     "name": "stderr",
     "output_type": "stream",
     "text": [
      "2025-03-25 12:13:42.245371: I tensorflow/compiler/mlir/mlir_graph_optimization_pass.cc:382] MLIR V1 optimization pass is not enabled\n"
     ]
    },
    {
     "name": "stdout",
     "output_type": "stream",
     "text": [
      "Running evaluation on  /mnt/storage/data/prem/20250226_gb1_D1-D2/mdamb231_pitstop2_D1D2/test_pyclem/Maskrcnn_evaluation/mdamb231_pitstop2_D1_cell001_inv/x005y005.tif\n"
     ]
    },
    {
     "name": "stderr",
     "output_type": "stream",
     "text": [
      "/home/michalakdj/mambaforge/envs/pyclem-env/lib/python3.10/site-packages/keras/src/engine/training_v1.py:2359: UserWarning: `Model.state_updates` will be removed in a future version. This property should not be used in TensorFlow 2.0, as `updates` are applied automatically.\n",
      "  updates=self.state_updates,\n",
      "2025-03-25 12:13:43.139958: W tensorflow/c/c_api.cc:305] Operation '{name:'mrcnn_detection/Reshape_1' id:6813 op device:{requested: '', assigned: ''} def:{{{node mrcnn_detection/Reshape_1}} = Reshape[T=DT_FLOAT, Tshape=DT_INT32, _has_manual_control_dependencies=true](mrcnn_detection/packed, mrcnn_detection/Reshape_1/shape)}}' was changed by setting attribute after it was run by a session. This mutation will have no effect, and will trigger an error in the future. Either don't modify nodes after running them or create a new session.\n",
      "2025-03-25 12:13:43.632253: I tensorflow/compiler/xla/stream_executor/cuda/cuda_dnn.cc:442] Loaded cuDNN version 8700\n"
     ]
    },
    {
     "name": "stdout",
     "output_type": "stream",
     "text": [
      "Running evaluation on  /mnt/storage/data/prem/20250226_gb1_D1-D2/mdamb231_pitstop2_D1D2/test_pyclem/Maskrcnn_evaluation/mdamb231_pitstop2_D1_cell001_inv/x006y013.tif\n",
      "Running evaluation on  /mnt/storage/data/prem/20250226_gb1_D1-D2/mdamb231_pitstop2_D1D2/test_pyclem/Maskrcnn_evaluation/mdamb231_pitstop2_D1_cell001_inv/x004y020.tif\n",
      "Running evaluation on  /mnt/storage/data/prem/20250226_gb1_D1-D2/mdamb231_pitstop2_D1D2/test_pyclem/Maskrcnn_evaluation/mdamb231_pitstop2_D1_cell001_inv/x007y001.tif\n",
      "Running evaluation on  /mnt/storage/data/prem/20250226_gb1_D1-D2/mdamb231_pitstop2_D1D2/test_pyclem/Maskrcnn_evaluation/mdamb231_pitstop2_D1_cell001_inv/x005y006.tif\n",
      "Running evaluation on  /mnt/storage/data/prem/20250226_gb1_D1-D2/mdamb231_pitstop2_D1D2/test_pyclem/Maskrcnn_evaluation/mdamb231_pitstop2_D1_cell001_inv/x009y021.tif\n",
      "Running evaluation on  /mnt/storage/data/prem/20250226_gb1_D1-D2/mdamb231_pitstop2_D1D2/test_pyclem/Maskrcnn_evaluation/mdamb231_pitstop2_D1_cell001_inv/x012y006.tif\n",
      "Running evaluation on  /mnt/storage/data/prem/20250226_gb1_D1-D2/mdamb231_pitstop2_D1D2/test_pyclem/Maskrcnn_evaluation/mdamb231_pitstop2_D1_cell001_inv/x008y001.tif\n",
      "Running evaluation on  /mnt/storage/data/prem/20250226_gb1_D1-D2/mdamb231_pitstop2_D1D2/test_pyclem/Maskrcnn_evaluation/mdamb231_pitstop2_D1_cell001_inv/x008y003.tif\n",
      "Running evaluation on  /mnt/storage/data/prem/20250226_gb1_D1-D2/mdamb231_pitstop2_D1D2/test_pyclem/Maskrcnn_evaluation/mdamb231_pitstop2_D1_cell001_inv/x001y013.tif\n",
      "Running evaluation on  /mnt/storage/data/prem/20250226_gb1_D1-D2/mdamb231_pitstop2_D1D2/test_pyclem/Maskrcnn_evaluation/mdamb231_pitstop2_D1_cell001_inv/x005y013.tif\n",
      "Running evaluation on  /mnt/storage/data/prem/20250226_gb1_D1-D2/mdamb231_pitstop2_D1D2/test_pyclem/Maskrcnn_evaluation/mdamb231_pitstop2_D1_cell001_inv/x009y010.tif\n",
      "Running evaluation on  /mnt/storage/data/prem/20250226_gb1_D1-D2/mdamb231_pitstop2_D1D2/test_pyclem/Maskrcnn_evaluation/mdamb231_pitstop2_D1_cell001_inv/x009y011.tif\n",
      "Running evaluation on  /mnt/storage/data/prem/20250226_gb1_D1-D2/mdamb231_pitstop2_D1D2/test_pyclem/Maskrcnn_evaluation/mdamb231_pitstop2_D1_cell001_inv/x004y001.tif\n",
      "Running evaluation on  /mnt/storage/data/prem/20250226_gb1_D1-D2/mdamb231_pitstop2_D1D2/test_pyclem/Maskrcnn_evaluation/mdamb231_pitstop2_D1_cell001_inv/x007y003.tif\n",
      "Running evaluation on  /mnt/storage/data/prem/20250226_gb1_D1-D2/mdamb231_pitstop2_D1D2/test_pyclem/Maskrcnn_evaluation/mdamb231_pitstop2_D1_cell001_inv/x008y010.tif\n",
      "Running evaluation on  /mnt/storage/data/prem/20250226_gb1_D1-D2/mdamb231_pitstop2_D1D2/test_pyclem/Maskrcnn_evaluation/mdamb231_pitstop2_D1_cell001_inv/x008y012.tif\n",
      "Running evaluation on  /mnt/storage/data/prem/20250226_gb1_D1-D2/mdamb231_pitstop2_D1D2/test_pyclem/Maskrcnn_evaluation/mdamb231_pitstop2_D1_cell001_inv/x007y002.tif\n",
      "Running evaluation on  /mnt/storage/data/prem/20250226_gb1_D1-D2/mdamb231_pitstop2_D1D2/test_pyclem/Maskrcnn_evaluation/mdamb231_pitstop2_D1_cell001_inv/x002y019.tif\n",
      "Running evaluation on  /mnt/storage/data/prem/20250226_gb1_D1-D2/mdamb231_pitstop2_D1D2/test_pyclem/Maskrcnn_evaluation/mdamb231_pitstop2_D1_cell001_inv/x009y018.tif\n",
      "Running evaluation on  /mnt/storage/data/prem/20250226_gb1_D1-D2/mdamb231_pitstop2_D1D2/test_pyclem/Maskrcnn_evaluation/mdamb231_pitstop2_D1_cell001_inv/x003y013.tif\n",
      "Running evaluation on  /mnt/storage/data/prem/20250226_gb1_D1-D2/mdamb231_pitstop2_D1D2/test_pyclem/Maskrcnn_evaluation/mdamb231_pitstop2_D1_cell001_inv/x001y019.tif\n",
      "Running evaluation on  /mnt/storage/data/prem/20250226_gb1_D1-D2/mdamb231_pitstop2_D1D2/test_pyclem/Maskrcnn_evaluation/mdamb231_pitstop2_D1_cell001_inv/x001y009.tif\n",
      "Running evaluation on  /mnt/storage/data/prem/20250226_gb1_D1-D2/mdamb231_pitstop2_D1D2/test_pyclem/Maskrcnn_evaluation/mdamb231_pitstop2_D1_cell001_inv/x004y016.tif\n",
      "Running evaluation on  /mnt/storage/data/prem/20250226_gb1_D1-D2/mdamb231_pitstop2_D1D2/test_pyclem/Maskrcnn_evaluation/mdamb231_pitstop2_D1_cell001_inv/x009y020.tif\n",
      "Running evaluation on  /mnt/storage/data/prem/20250226_gb1_D1-D2/mdamb231_pitstop2_D1D2/test_pyclem/Maskrcnn_evaluation/mdamb231_pitstop2_D1_cell001_inv/x004y010.tif\n",
      "Running evaluation on  /mnt/storage/data/prem/20250226_gb1_D1-D2/mdamb231_pitstop2_D1D2/test_pyclem/Maskrcnn_evaluation/mdamb231_pitstop2_D1_cell001_inv/x002y020.tif\n",
      "Running evaluation on  /mnt/storage/data/prem/20250226_gb1_D1-D2/mdamb231_pitstop2_D1D2/test_pyclem/Maskrcnn_evaluation/mdamb231_pitstop2_D1_cell001_inv/x006y005.tif\n",
      "Running evaluation on  /mnt/storage/data/prem/20250226_gb1_D1-D2/mdamb231_pitstop2_D1D2/test_pyclem/Maskrcnn_evaluation/mdamb231_pitstop2_D1_cell001_inv/x001y018.tif\n",
      "Running evaluation on  /mnt/storage/data/prem/20250226_gb1_D1-D2/mdamb231_pitstop2_D1D2/test_pyclem/Maskrcnn_evaluation/mdamb231_pitstop2_D1_cell001_inv/x002y001.tif\n",
      "Running evaluation on  /mnt/storage/data/prem/20250226_gb1_D1-D2/mdamb231_pitstop2_D1D2/test_pyclem/Maskrcnn_evaluation/mdamb231_pitstop2_D1_cell001_inv/x002y007.tif\n",
      "Running evaluation on  /mnt/storage/data/prem/20250226_gb1_D1-D2/mdamb231_pitstop2_D1D2/test_pyclem/Maskrcnn_evaluation/mdamb231_pitstop2_D1_cell001_inv/x012y008.tif\n",
      "Running evaluation on  /mnt/storage/data/prem/20250226_gb1_D1-D2/mdamb231_pitstop2_D1D2/test_pyclem/Maskrcnn_evaluation/mdamb231_pitstop2_D1_cell001_inv/x010y005.tif\n",
      "Running evaluation on  /mnt/storage/data/prem/20250226_gb1_D1-D2/mdamb231_pitstop2_D1D2/test_pyclem/Maskrcnn_evaluation/mdamb231_pitstop2_D1_cell001_inv/x003y001.tif\n",
      "Running evaluation on  /mnt/storage/data/prem/20250226_gb1_D1-D2/mdamb231_pitstop2_D1D2/test_pyclem/Maskrcnn_evaluation/mdamb231_pitstop2_D1_cell001_inv/x005y016.tif\n",
      "Running evaluation on  /mnt/storage/data/prem/20250226_gb1_D1-D2/mdamb231_pitstop2_D1D2/test_pyclem/Maskrcnn_evaluation/mdamb231_pitstop2_D1_cell001_inv/x006y011.tif\n",
      "Running evaluation on  /mnt/storage/data/prem/20250226_gb1_D1-D2/mdamb231_pitstop2_D1D2/test_pyclem/Maskrcnn_evaluation/mdamb231_pitstop2_D1_cell001_inv/x002y015.tif\n",
      "Running evaluation on  /mnt/storage/data/prem/20250226_gb1_D1-D2/mdamb231_pitstop2_D1D2/test_pyclem/Maskrcnn_evaluation/mdamb231_pitstop2_D1_cell001_inv/x001y021.tif\n",
      "Running evaluation on  /mnt/storage/data/prem/20250226_gb1_D1-D2/mdamb231_pitstop2_D1D2/test_pyclem/Maskrcnn_evaluation/mdamb231_pitstop2_D1_cell001_inv/x006y010.tif\n",
      "Running evaluation on  /mnt/storage/data/prem/20250226_gb1_D1-D2/mdamb231_pitstop2_D1D2/test_pyclem/Maskrcnn_evaluation/mdamb231_pitstop2_D1_cell001_inv/x001y011.tif\n",
      "Running evaluation on  /mnt/storage/data/prem/20250226_gb1_D1-D2/mdamb231_pitstop2_D1D2/test_pyclem/Maskrcnn_evaluation/mdamb231_pitstop2_D1_cell001_inv/x007y007.tif\n",
      "Running evaluation on  /mnt/storage/data/prem/20250226_gb1_D1-D2/mdamb231_pitstop2_D1D2/test_pyclem/Maskrcnn_evaluation/mdamb231_pitstop2_D1_cell001_inv/x008y014.tif\n",
      "Running evaluation on  /mnt/storage/data/prem/20250226_gb1_D1-D2/mdamb231_pitstop2_D1D2/test_pyclem/Maskrcnn_evaluation/mdamb231_pitstop2_D1_cell001_inv/x010y010.tif\n",
      "Running evaluation on  /mnt/storage/data/prem/20250226_gb1_D1-D2/mdamb231_pitstop2_D1D2/test_pyclem/Maskrcnn_evaluation/mdamb231_pitstop2_D1_cell001_inv/x006y016.tif\n",
      "Running evaluation on  /mnt/storage/data/prem/20250226_gb1_D1-D2/mdamb231_pitstop2_D1D2/test_pyclem/Maskrcnn_evaluation/mdamb231_pitstop2_D1_cell001_inv/x004y005.tif\n",
      "Running evaluation on  /mnt/storage/data/prem/20250226_gb1_D1-D2/mdamb231_pitstop2_D1D2/test_pyclem/Maskrcnn_evaluation/mdamb231_pitstop2_D1_cell001_inv/x010y004.tif\n",
      "Running evaluation on  /mnt/storage/data/prem/20250226_gb1_D1-D2/mdamb231_pitstop2_D1D2/test_pyclem/Maskrcnn_evaluation/mdamb231_pitstop2_D1_cell001_inv/x003y003.tif\n",
      "Running evaluation on  /mnt/storage/data/prem/20250226_gb1_D1-D2/mdamb231_pitstop2_D1D2/test_pyclem/Maskrcnn_evaluation/mdamb231_pitstop2_D1_cell001_inv/x008y002.tif\n",
      "Running evaluation on  /mnt/storage/data/prem/20250226_gb1_D1-D2/mdamb231_pitstop2_D1D2/test_pyclem/Maskrcnn_evaluation/mdamb231_pitstop2_D1_cell001_inv/x003y004.tif\n",
      "Running evaluation on  /mnt/storage/data/prem/20250226_gb1_D1-D2/mdamb231_pitstop2_D1D2/test_pyclem/Maskrcnn_evaluation/mdamb231_pitstop2_D1_cell001_inv/x007y014.tif\n",
      "Running evaluation on  /mnt/storage/data/prem/20250226_gb1_D1-D2/mdamb231_pitstop2_D1D2/test_pyclem/Maskrcnn_evaluation/mdamb231_pitstop2_D1_cell001_inv/x011y011.tif\n",
      "Running evaluation on  /mnt/storage/data/prem/20250226_gb1_D1-D2/mdamb231_pitstop2_D1D2/test_pyclem/Maskrcnn_evaluation/mdamb231_pitstop2_D1_cell001_inv/x001y008.tif\n",
      "Running evaluation on  /mnt/storage/data/prem/20250226_gb1_D1-D2/mdamb231_pitstop2_D1D2/test_pyclem/Maskrcnn_evaluation/mdamb231_pitstop2_D1_cell001_inv/x012y021.tif\n",
      "Running evaluation on  /mnt/storage/data/prem/20250226_gb1_D1-D2/mdamb231_pitstop2_D1D2/test_pyclem/Maskrcnn_evaluation/mdamb231_pitstop2_D1_cell001_inv/x010y006.tif\n",
      "Running evaluation on  /mnt/storage/data/prem/20250226_gb1_D1-D2/mdamb231_pitstop2_D1D2/test_pyclem/Maskrcnn_evaluation/mdamb231_pitstop2_D1_cell001_inv/x008y005.tif\n",
      "Running evaluation on  /mnt/storage/data/prem/20250226_gb1_D1-D2/mdamb231_pitstop2_D1D2/test_pyclem/Maskrcnn_evaluation/mdamb231_pitstop2_D1_cell001_inv/x008y008.tif\n",
      "Running evaluation on  /mnt/storage/data/prem/20250226_gb1_D1-D2/mdamb231_pitstop2_D1D2/test_pyclem/Maskrcnn_evaluation/mdamb231_pitstop2_D1_cell001_inv/x006y002.tif\n",
      "Running evaluation on  /mnt/storage/data/prem/20250226_gb1_D1-D2/mdamb231_pitstop2_D1D2/test_pyclem/Maskrcnn_evaluation/mdamb231_pitstop2_D1_cell001_inv/x007y011.tif\n",
      "Running evaluation on  /mnt/storage/data/prem/20250226_gb1_D1-D2/mdamb231_pitstop2_D1D2/test_pyclem/Maskrcnn_evaluation/mdamb231_pitstop2_D1_cell001_inv/x008y015.tif\n",
      "Running evaluation on  /mnt/storage/data/prem/20250226_gb1_D1-D2/mdamb231_pitstop2_D1D2/test_pyclem/Maskrcnn_evaluation/mdamb231_pitstop2_D1_cell001_inv/x009y004.tif\n",
      "Running evaluation on  /mnt/storage/data/prem/20250226_gb1_D1-D2/mdamb231_pitstop2_D1D2/test_pyclem/Maskrcnn_evaluation/mdamb231_pitstop2_D1_cell001_inv/x009y019.tif\n",
      "Running evaluation on  /mnt/storage/data/prem/20250226_gb1_D1-D2/mdamb231_pitstop2_D1D2/test_pyclem/Maskrcnn_evaluation/mdamb231_pitstop2_D1_cell001_inv/x011y016.tif\n",
      "Running evaluation on  /mnt/storage/data/prem/20250226_gb1_D1-D2/mdamb231_pitstop2_D1D2/test_pyclem/Maskrcnn_evaluation/mdamb231_pitstop2_D1_cell001_inv/x009y002.tif\n",
      "Running evaluation on  /mnt/storage/data/prem/20250226_gb1_D1-D2/mdamb231_pitstop2_D1D2/test_pyclem/Maskrcnn_evaluation/mdamb231_pitstop2_D1_cell001_inv/x003y010.tif\n",
      "Running evaluation on  /mnt/storage/data/prem/20250226_gb1_D1-D2/mdamb231_pitstop2_D1D2/test_pyclem/Maskrcnn_evaluation/mdamb231_pitstop2_D1_cell001_inv/x005y003.tif\n",
      "Running evaluation on  /mnt/storage/data/prem/20250226_gb1_D1-D2/mdamb231_pitstop2_D1D2/test_pyclem/Maskrcnn_evaluation/mdamb231_pitstop2_D1_cell001_inv/x004y017.tif\n",
      "Running evaluation on  /mnt/storage/data/prem/20250226_gb1_D1-D2/mdamb231_pitstop2_D1D2/test_pyclem/Maskrcnn_evaluation/mdamb231_pitstop2_D1_cell001_inv/x011y003.tif\n",
      "Running evaluation on  /mnt/storage/data/prem/20250226_gb1_D1-D2/mdamb231_pitstop2_D1D2/test_pyclem/Maskrcnn_evaluation/mdamb231_pitstop2_D1_cell001_inv/x012y018.tif\n",
      "Running evaluation on  /mnt/storage/data/prem/20250226_gb1_D1-D2/mdamb231_pitstop2_D1D2/test_pyclem/Maskrcnn_evaluation/mdamb231_pitstop2_D1_cell001_inv/x011y020.tif\n",
      "Running evaluation on  /mnt/storage/data/prem/20250226_gb1_D1-D2/mdamb231_pitstop2_D1D2/test_pyclem/Maskrcnn_evaluation/mdamb231_pitstop2_D1_cell001_inv/x002y003.tif\n",
      "Running evaluation on  /mnt/storage/data/prem/20250226_gb1_D1-D2/mdamb231_pitstop2_D1D2/test_pyclem/Maskrcnn_evaluation/mdamb231_pitstop2_D1_cell001_inv/x003y017.tif\n",
      "Running evaluation on  /mnt/storage/data/prem/20250226_gb1_D1-D2/mdamb231_pitstop2_D1D2/test_pyclem/Maskrcnn_evaluation/mdamb231_pitstop2_D1_cell001_inv/x005y021.tif\n",
      "Running evaluation on  /mnt/storage/data/prem/20250226_gb1_D1-D2/mdamb231_pitstop2_D1D2/test_pyclem/Maskrcnn_evaluation/mdamb231_pitstop2_D1_cell001_inv/x008y013.tif\n",
      "Running evaluation on  /mnt/storage/data/prem/20250226_gb1_D1-D2/mdamb231_pitstop2_D1D2/test_pyclem/Maskrcnn_evaluation/mdamb231_pitstop2_D1_cell001_inv/x002y016.tif\n",
      "Running evaluation on  /mnt/storage/data/prem/20250226_gb1_D1-D2/mdamb231_pitstop2_D1D2/test_pyclem/Maskrcnn_evaluation/mdamb231_pitstop2_D1_cell001_inv/x003y018.tif\n",
      "Running evaluation on  /mnt/storage/data/prem/20250226_gb1_D1-D2/mdamb231_pitstop2_D1D2/test_pyclem/Maskrcnn_evaluation/mdamb231_pitstop2_D1_cell001_inv/x009y003.tif\n",
      "Running evaluation on  /mnt/storage/data/prem/20250226_gb1_D1-D2/mdamb231_pitstop2_D1D2/test_pyclem/Maskrcnn_evaluation/mdamb231_pitstop2_D1_cell001_inv/x007y018.tif\n",
      "Running evaluation on  /mnt/storage/data/prem/20250226_gb1_D1-D2/mdamb231_pitstop2_D1D2/test_pyclem/Maskrcnn_evaluation/mdamb231_pitstop2_D1_cell001_inv/x010y012.tif\n",
      "Running evaluation on  /mnt/storage/data/prem/20250226_gb1_D1-D2/mdamb231_pitstop2_D1D2/test_pyclem/Maskrcnn_evaluation/mdamb231_pitstop2_D1_cell001_inv/x008y011.tif\n",
      "Running evaluation on  /mnt/storage/data/prem/20250226_gb1_D1-D2/mdamb231_pitstop2_D1D2/test_pyclem/Maskrcnn_evaluation/mdamb231_pitstop2_D1_cell001_inv/x008y004.tif\n",
      "Running evaluation on  /mnt/storage/data/prem/20250226_gb1_D1-D2/mdamb231_pitstop2_D1D2/test_pyclem/Maskrcnn_evaluation/mdamb231_pitstop2_D1_cell001_inv/x001y005.tif\n",
      "Running evaluation on  /mnt/storage/data/prem/20250226_gb1_D1-D2/mdamb231_pitstop2_D1D2/test_pyclem/Maskrcnn_evaluation/mdamb231_pitstop2_D1_cell001_inv/x009y014.tif\n",
      "Running evaluation on  /mnt/storage/data/prem/20250226_gb1_D1-D2/mdamb231_pitstop2_D1D2/test_pyclem/Maskrcnn_evaluation/mdamb231_pitstop2_D1_cell001_inv/x001y020.tif\n",
      "Running evaluation on  /mnt/storage/data/prem/20250226_gb1_D1-D2/mdamb231_pitstop2_D1D2/test_pyclem/Maskrcnn_evaluation/mdamb231_pitstop2_D1_cell001_inv/x004y013.tif\n",
      "Running evaluation on  /mnt/storage/data/prem/20250226_gb1_D1-D2/mdamb231_pitstop2_D1D2/test_pyclem/Maskrcnn_evaluation/mdamb231_pitstop2_D1_cell001_inv/x012y002.tif\n",
      "Running evaluation on  /mnt/storage/data/prem/20250226_gb1_D1-D2/mdamb231_pitstop2_D1D2/test_pyclem/Maskrcnn_evaluation/mdamb231_pitstop2_D1_cell001_inv/x002y009.tif\n",
      "Running evaluation on  /mnt/storage/data/prem/20250226_gb1_D1-D2/mdamb231_pitstop2_D1D2/test_pyclem/Maskrcnn_evaluation/mdamb231_pitstop2_D1_cell001_inv/x010y021.tif\n",
      "Running evaluation on  /mnt/storage/data/prem/20250226_gb1_D1-D2/mdamb231_pitstop2_D1D2/test_pyclem/Maskrcnn_evaluation/mdamb231_pitstop2_D1_cell001_inv/x006y007.tif\n",
      "Running evaluation on  /mnt/storage/data/prem/20250226_gb1_D1-D2/mdamb231_pitstop2_D1D2/test_pyclem/Maskrcnn_evaluation/mdamb231_pitstop2_D1_cell001_inv/x003y005.tif\n",
      "Running evaluation on  /mnt/storage/data/prem/20250226_gb1_D1-D2/mdamb231_pitstop2_D1D2/test_pyclem/Maskrcnn_evaluation/mdamb231_pitstop2_D1_cell001_inv/x002y014.tif\n",
      "Running evaluation on  /mnt/storage/data/prem/20250226_gb1_D1-D2/mdamb231_pitstop2_D1D2/test_pyclem/Maskrcnn_evaluation/mdamb231_pitstop2_D1_cell001_inv/x006y006.tif\n",
      "Running evaluation on  /mnt/storage/data/prem/20250226_gb1_D1-D2/mdamb231_pitstop2_D1D2/test_pyclem/Maskrcnn_evaluation/mdamb231_pitstop2_D1_cell001_inv/x011y008.tif\n",
      "Running evaluation on  /mnt/storage/data/prem/20250226_gb1_D1-D2/mdamb231_pitstop2_D1D2/test_pyclem/Maskrcnn_evaluation/mdamb231_pitstop2_D1_cell001_inv/x004y018.tif\n",
      "Running evaluation on  /mnt/storage/data/prem/20250226_gb1_D1-D2/mdamb231_pitstop2_D1D2/test_pyclem/Maskrcnn_evaluation/mdamb231_pitstop2_D1_cell001_inv/x010y019.tif\n",
      "Running evaluation on  /mnt/storage/data/prem/20250226_gb1_D1-D2/mdamb231_pitstop2_D1D2/test_pyclem/Maskrcnn_evaluation/mdamb231_pitstop2_D1_cell001_inv/x010y016.tif\n",
      "Running evaluation on  /mnt/storage/data/prem/20250226_gb1_D1-D2/mdamb231_pitstop2_D1D2/test_pyclem/Maskrcnn_evaluation/mdamb231_pitstop2_D1_cell001_inv/x007y021.tif\n",
      "Running evaluation on  /mnt/storage/data/prem/20250226_gb1_D1-D2/mdamb231_pitstop2_D1D2/test_pyclem/Maskrcnn_evaluation/mdamb231_pitstop2_D1_cell001_inv/x005y010.tif\n",
      "Running evaluation on  /mnt/storage/data/prem/20250226_gb1_D1-D2/mdamb231_pitstop2_D1D2/test_pyclem/Maskrcnn_evaluation/mdamb231_pitstop2_D1_cell001_inv/x002y008.tif\n",
      "Running evaluation on  /mnt/storage/data/prem/20250226_gb1_D1-D2/mdamb231_pitstop2_D1D2/test_pyclem/Maskrcnn_evaluation/mdamb231_pitstop2_D1_cell001_inv/x003y020.tif\n",
      "Running evaluation on  /mnt/storage/data/prem/20250226_gb1_D1-D2/mdamb231_pitstop2_D1D2/test_pyclem/Maskrcnn_evaluation/mdamb231_pitstop2_D1_cell001_inv/x010y008.tif\n",
      "Running evaluation on  /mnt/storage/data/prem/20250226_gb1_D1-D2/mdamb231_pitstop2_D1D2/test_pyclem/Maskrcnn_evaluation/mdamb231_pitstop2_D1_cell001_inv/x006y020.tif\n",
      "Running evaluation on  /mnt/storage/data/prem/20250226_gb1_D1-D2/mdamb231_pitstop2_D1D2/test_pyclem/Maskrcnn_evaluation/mdamb231_pitstop2_D1_cell001_inv/x003y012.tif\n",
      "Running evaluation on  /mnt/storage/data/prem/20250226_gb1_D1-D2/mdamb231_pitstop2_D1D2/test_pyclem/Maskrcnn_evaluation/mdamb231_pitstop2_D1_cell001_inv/x004y008.tif\n",
      "Running evaluation on  /mnt/storage/data/prem/20250226_gb1_D1-D2/mdamb231_pitstop2_D1D2/test_pyclem/Maskrcnn_evaluation/mdamb231_pitstop2_D1_cell001_inv/x004y012.tif\n",
      "Running evaluation on  /mnt/storage/data/prem/20250226_gb1_D1-D2/mdamb231_pitstop2_D1D2/test_pyclem/Maskrcnn_evaluation/mdamb231_pitstop2_D1_cell001_inv/x005y009.tif\n",
      "Running evaluation on  /mnt/storage/data/prem/20250226_gb1_D1-D2/mdamb231_pitstop2_D1D2/test_pyclem/Maskrcnn_evaluation/mdamb231_pitstop2_D1_cell001_inv/x005y015.tif\n",
      "Running evaluation on  /mnt/storage/data/prem/20250226_gb1_D1-D2/mdamb231_pitstop2_D1D2/test_pyclem/Maskrcnn_evaluation/mdamb231_pitstop2_D1_cell001_inv/x009y017.tif\n",
      "Running evaluation on  /mnt/storage/data/prem/20250226_gb1_D1-D2/mdamb231_pitstop2_D1D2/test_pyclem/Maskrcnn_evaluation/mdamb231_pitstop2_D1_cell001_inv/x006y017.tif\n",
      "Running evaluation on  /mnt/storage/data/prem/20250226_gb1_D1-D2/mdamb231_pitstop2_D1D2/test_pyclem/Maskrcnn_evaluation/mdamb231_pitstop2_D1_cell001_inv/x009y007.tif\n",
      "Running evaluation on  /mnt/storage/data/prem/20250226_gb1_D1-D2/mdamb231_pitstop2_D1D2/test_pyclem/Maskrcnn_evaluation/mdamb231_pitstop2_D1_cell001_inv/x003y006.tif\n",
      "Running evaluation on  /mnt/storage/data/prem/20250226_gb1_D1-D2/mdamb231_pitstop2_D1D2/test_pyclem/Maskrcnn_evaluation/mdamb231_pitstop2_D1_cell001_inv/x002y006.tif\n",
      "Running evaluation on  /mnt/storage/data/prem/20250226_gb1_D1-D2/mdamb231_pitstop2_D1D2/test_pyclem/Maskrcnn_evaluation/mdamb231_pitstop2_D1_cell001_inv/x001y016.tif\n",
      "Running evaluation on  /mnt/storage/data/prem/20250226_gb1_D1-D2/mdamb231_pitstop2_D1D2/test_pyclem/Maskrcnn_evaluation/mdamb231_pitstop2_D1_cell001_inv/x005y011.tif\n",
      "Running evaluation on  /mnt/storage/data/prem/20250226_gb1_D1-D2/mdamb231_pitstop2_D1D2/test_pyclem/Maskrcnn_evaluation/mdamb231_pitstop2_D1_cell001_inv/x011y002.tif\n",
      "Running evaluation on  /mnt/storage/data/prem/20250226_gb1_D1-D2/mdamb231_pitstop2_D1D2/test_pyclem/Maskrcnn_evaluation/mdamb231_pitstop2_D1_cell001_inv/x006y012.tif\n",
      "Running evaluation on  /mnt/storage/data/prem/20250226_gb1_D1-D2/mdamb231_pitstop2_D1D2/test_pyclem/Maskrcnn_evaluation/mdamb231_pitstop2_D1_cell001_inv/x012y019.tif\n",
      "Running evaluation on  /mnt/storage/data/prem/20250226_gb1_D1-D2/mdamb231_pitstop2_D1D2/test_pyclem/Maskrcnn_evaluation/mdamb231_pitstop2_D1_cell001_inv/x002y021.tif\n",
      "Running evaluation on  /mnt/storage/data/prem/20250226_gb1_D1-D2/mdamb231_pitstop2_D1D2/test_pyclem/Maskrcnn_evaluation/mdamb231_pitstop2_D1_cell001_inv/x005y001.tif\n",
      "Running evaluation on  /mnt/storage/data/prem/20250226_gb1_D1-D2/mdamb231_pitstop2_D1D2/test_pyclem/Maskrcnn_evaluation/mdamb231_pitstop2_D1_cell001_inv/x012y016.tif\n",
      "Running evaluation on  /mnt/storage/data/prem/20250226_gb1_D1-D2/mdamb231_pitstop2_D1D2/test_pyclem/Maskrcnn_evaluation/mdamb231_pitstop2_D1_cell001_inv/x001y010.tif\n",
      "Running evaluation on  /mnt/storage/data/prem/20250226_gb1_D1-D2/mdamb231_pitstop2_D1D2/test_pyclem/Maskrcnn_evaluation/mdamb231_pitstop2_D1_cell001_inv/x007y009.tif\n",
      "Running evaluation on  /mnt/storage/data/prem/20250226_gb1_D1-D2/mdamb231_pitstop2_D1D2/test_pyclem/Maskrcnn_evaluation/mdamb231_pitstop2_D1_cell001_inv/x004y015.tif\n",
      "Running evaluation on  /mnt/storage/data/prem/20250226_gb1_D1-D2/mdamb231_pitstop2_D1D2/test_pyclem/Maskrcnn_evaluation/mdamb231_pitstop2_D1_cell001_inv/x003y008.tif\n",
      "Running evaluation on  /mnt/storage/data/prem/20250226_gb1_D1-D2/mdamb231_pitstop2_D1D2/test_pyclem/Maskrcnn_evaluation/mdamb231_pitstop2_D1_cell001_inv/x011y013.tif\n",
      "Running evaluation on  /mnt/storage/data/prem/20250226_gb1_D1-D2/mdamb231_pitstop2_D1D2/test_pyclem/Maskrcnn_evaluation/mdamb231_pitstop2_D1_cell001_inv/x005y008.tif\n",
      "Running evaluation on  /mnt/storage/data/prem/20250226_gb1_D1-D2/mdamb231_pitstop2_D1D2/test_pyclem/Maskrcnn_evaluation/mdamb231_pitstop2_D1_cell001_inv/x007y006.tif\n",
      "Running evaluation on  /mnt/storage/data/prem/20250226_gb1_D1-D2/mdamb231_pitstop2_D1D2/test_pyclem/Maskrcnn_evaluation/mdamb231_pitstop2_D1_cell001_inv/x011y004.tif\n",
      "Running evaluation on  /mnt/storage/data/prem/20250226_gb1_D1-D2/mdamb231_pitstop2_D1D2/test_pyclem/Maskrcnn_evaluation/mdamb231_pitstop2_D1_cell001_inv/x005y012.tif\n",
      "Running evaluation on  /mnt/storage/data/prem/20250226_gb1_D1-D2/mdamb231_pitstop2_D1D2/test_pyclem/Maskrcnn_evaluation/mdamb231_pitstop2_D1_cell001_inv/x001y012.tif\n",
      "Running evaluation on  /mnt/storage/data/prem/20250226_gb1_D1-D2/mdamb231_pitstop2_D1D2/test_pyclem/Maskrcnn_evaluation/mdamb231_pitstop2_D1_cell001_inv/x009y008.tif\n",
      "Running evaluation on  /mnt/storage/data/prem/20250226_gb1_D1-D2/mdamb231_pitstop2_D1D2/test_pyclem/Maskrcnn_evaluation/mdamb231_pitstop2_D1_cell001_inv/x003y007.tif\n",
      "Running evaluation on  /mnt/storage/data/prem/20250226_gb1_D1-D2/mdamb231_pitstop2_D1D2/test_pyclem/Maskrcnn_evaluation/mdamb231_pitstop2_D1_cell001_inv/x010y017.tif\n",
      "Running evaluation on  /mnt/storage/data/prem/20250226_gb1_D1-D2/mdamb231_pitstop2_D1D2/test_pyclem/Maskrcnn_evaluation/mdamb231_pitstop2_D1_cell001_inv/x012y007.tif\n",
      "Running evaluation on  /mnt/storage/data/prem/20250226_gb1_D1-D2/mdamb231_pitstop2_D1D2/test_pyclem/Maskrcnn_evaluation/mdamb231_pitstop2_D1_cell001_inv/x001y007.tif\n",
      "Running evaluation on  /mnt/storage/data/prem/20250226_gb1_D1-D2/mdamb231_pitstop2_D1D2/test_pyclem/Maskrcnn_evaluation/mdamb231_pitstop2_D1_cell001_inv/x005y019.tif\n",
      "Running evaluation on  /mnt/storage/data/prem/20250226_gb1_D1-D2/mdamb231_pitstop2_D1D2/test_pyclem/Maskrcnn_evaluation/mdamb231_pitstop2_D1_cell001_inv/x009y015.tif\n",
      "Running evaluation on  /mnt/storage/data/prem/20250226_gb1_D1-D2/mdamb231_pitstop2_D1D2/test_pyclem/Maskrcnn_evaluation/mdamb231_pitstop2_D1_cell001_inv/x010y011.tif\n",
      "Running evaluation on  /mnt/storage/data/prem/20250226_gb1_D1-D2/mdamb231_pitstop2_D1D2/test_pyclem/Maskrcnn_evaluation/mdamb231_pitstop2_D1_cell001_inv/x006y015.tif\n",
      "Running evaluation on  /mnt/storage/data/prem/20250226_gb1_D1-D2/mdamb231_pitstop2_D1D2/test_pyclem/Maskrcnn_evaluation/mdamb231_pitstop2_D1_cell001_inv/x006y009.tif\n",
      "Running evaluation on  /mnt/storage/data/prem/20250226_gb1_D1-D2/mdamb231_pitstop2_D1D2/test_pyclem/Maskrcnn_evaluation/mdamb231_pitstop2_D1_cell001_inv/x007y013.tif\n",
      "Running evaluation on  /mnt/storage/data/prem/20250226_gb1_D1-D2/mdamb231_pitstop2_D1D2/test_pyclem/Maskrcnn_evaluation/mdamb231_pitstop2_D1_cell001_inv/x005y014.tif\n",
      "Running evaluation on  /mnt/storage/data/prem/20250226_gb1_D1-D2/mdamb231_pitstop2_D1D2/test_pyclem/Maskrcnn_evaluation/mdamb231_pitstop2_D1_cell001_inv/x007y004.tif\n",
      "Running evaluation on  /mnt/storage/data/prem/20250226_gb1_D1-D2/mdamb231_pitstop2_D1D2/test_pyclem/Maskrcnn_evaluation/mdamb231_pitstop2_D1_cell001_inv/x010y003.tif\n",
      "Running evaluation on  /mnt/storage/data/prem/20250226_gb1_D1-D2/mdamb231_pitstop2_D1D2/test_pyclem/Maskrcnn_evaluation/mdamb231_pitstop2_D1_cell001_inv/x002y005.tif\n",
      "Running evaluation on  /mnt/storage/data/prem/20250226_gb1_D1-D2/mdamb231_pitstop2_D1D2/test_pyclem/Maskrcnn_evaluation/mdamb231_pitstop2_D1_cell001_inv/x006y021.tif\n",
      "Running evaluation on  /mnt/storage/data/prem/20250226_gb1_D1-D2/mdamb231_pitstop2_D1D2/test_pyclem/Maskrcnn_evaluation/mdamb231_pitstop2_D1_cell001_inv/x011y012.tif\n",
      "Running evaluation on  /mnt/storage/data/prem/20250226_gb1_D1-D2/mdamb231_pitstop2_D1D2/test_pyclem/Maskrcnn_evaluation/mdamb231_pitstop2_D1_cell001_inv/x001y002.tif\n",
      "Running evaluation on  /mnt/storage/data/prem/20250226_gb1_D1-D2/mdamb231_pitstop2_D1D2/test_pyclem/Maskrcnn_evaluation/mdamb231_pitstop2_D1_cell001_inv/x009y005.tif\n",
      "Running evaluation on  /mnt/storage/data/prem/20250226_gb1_D1-D2/mdamb231_pitstop2_D1D2/test_pyclem/Maskrcnn_evaluation/mdamb231_pitstop2_D1_cell001_inv/x004y019.tif\n",
      "Running evaluation on  /mnt/storage/data/prem/20250226_gb1_D1-D2/mdamb231_pitstop2_D1D2/test_pyclem/Maskrcnn_evaluation/mdamb231_pitstop2_D1_cell001_inv/x003y021.tif\n",
      "Running evaluation on  /mnt/storage/data/prem/20250226_gb1_D1-D2/mdamb231_pitstop2_D1D2/test_pyclem/Maskrcnn_evaluation/mdamb231_pitstop2_D1_cell001_inv/x012y009.tif\n",
      "Running evaluation on  /mnt/storage/data/prem/20250226_gb1_D1-D2/mdamb231_pitstop2_D1D2/test_pyclem/Maskrcnn_evaluation/mdamb231_pitstop2_D1_cell001_inv/x008y006.tif\n",
      "Running evaluation on  /mnt/storage/data/prem/20250226_gb1_D1-D2/mdamb231_pitstop2_D1D2/test_pyclem/Maskrcnn_evaluation/mdamb231_pitstop2_D1_cell001_inv/x005y004.tif\n",
      "Running evaluation on  /mnt/storage/data/prem/20250226_gb1_D1-D2/mdamb231_pitstop2_D1D2/test_pyclem/Maskrcnn_evaluation/mdamb231_pitstop2_D1_cell001_inv/x010y014.tif\n",
      "Running evaluation on  /mnt/storage/data/prem/20250226_gb1_D1-D2/mdamb231_pitstop2_D1D2/test_pyclem/Maskrcnn_evaluation/mdamb231_pitstop2_D1_cell001_inv/x012y017.tif\n",
      "Running evaluation on  /mnt/storage/data/prem/20250226_gb1_D1-D2/mdamb231_pitstop2_D1D2/test_pyclem/Maskrcnn_evaluation/mdamb231_pitstop2_D1_cell001_inv/x009y009.tif\n",
      "Running evaluation on  /mnt/storage/data/prem/20250226_gb1_D1-D2/mdamb231_pitstop2_D1D2/test_pyclem/Maskrcnn_evaluation/mdamb231_pitstop2_D1_cell001_inv/x009y013.tif\n",
      "Running evaluation on  /mnt/storage/data/prem/20250226_gb1_D1-D2/mdamb231_pitstop2_D1D2/test_pyclem/Maskrcnn_evaluation/mdamb231_pitstop2_D1_cell001_inv/x004y014.tif\n",
      "Running evaluation on  /mnt/storage/data/prem/20250226_gb1_D1-D2/mdamb231_pitstop2_D1D2/test_pyclem/Maskrcnn_evaluation/mdamb231_pitstop2_D1_cell001_inv/x011y007.tif\n",
      "Running evaluation on  /mnt/storage/data/prem/20250226_gb1_D1-D2/mdamb231_pitstop2_D1D2/test_pyclem/Maskrcnn_evaluation/mdamb231_pitstop2_D1_cell001_inv/x012y004.tif\n",
      "Running evaluation on  /mnt/storage/data/prem/20250226_gb1_D1-D2/mdamb231_pitstop2_D1D2/test_pyclem/Maskrcnn_evaluation/mdamb231_pitstop2_D1_cell001_inv/x007y005.tif\n",
      "Running evaluation on  /mnt/storage/data/prem/20250226_gb1_D1-D2/mdamb231_pitstop2_D1D2/test_pyclem/Maskrcnn_evaluation/mdamb231_pitstop2_D1_cell001_inv/x003y015.tif\n",
      "Running evaluation on  /mnt/storage/data/prem/20250226_gb1_D1-D2/mdamb231_pitstop2_D1D2/test_pyclem/Maskrcnn_evaluation/mdamb231_pitstop2_D1_cell001_inv/x012y013.tif\n",
      "Running evaluation on  /mnt/storage/data/prem/20250226_gb1_D1-D2/mdamb231_pitstop2_D1D2/test_pyclem/Maskrcnn_evaluation/mdamb231_pitstop2_D1_cell001_inv/x005y007.tif\n",
      "Running evaluation on  /mnt/storage/data/prem/20250226_gb1_D1-D2/mdamb231_pitstop2_D1D2/test_pyclem/Maskrcnn_evaluation/mdamb231_pitstop2_D1_cell001_inv/x003y011.tif\n",
      "Running evaluation on  /mnt/storage/data/prem/20250226_gb1_D1-D2/mdamb231_pitstop2_D1D2/test_pyclem/Maskrcnn_evaluation/mdamb231_pitstop2_D1_cell001_inv/x004y009.tif\n",
      "Running evaluation on  /mnt/storage/data/prem/20250226_gb1_D1-D2/mdamb231_pitstop2_D1D2/test_pyclem/Maskrcnn_evaluation/mdamb231_pitstop2_D1_cell001_inv/x011y017.tif\n",
      "Running evaluation on  /mnt/storage/data/prem/20250226_gb1_D1-D2/mdamb231_pitstop2_D1D2/test_pyclem/Maskrcnn_evaluation/mdamb231_pitstop2_D1_cell001_inv/x008y018.tif\n",
      "Running evaluation on  /mnt/storage/data/prem/20250226_gb1_D1-D2/mdamb231_pitstop2_D1D2/test_pyclem/Maskrcnn_evaluation/mdamb231_pitstop2_D1_cell001_inv/x001y004.tif\n",
      "Running evaluation on  /mnt/storage/data/prem/20250226_gb1_D1-D2/mdamb231_pitstop2_D1D2/test_pyclem/Maskrcnn_evaluation/mdamb231_pitstop2_D1_cell001_inv/x010y007.tif\n",
      "Running evaluation on  /mnt/storage/data/prem/20250226_gb1_D1-D2/mdamb231_pitstop2_D1D2/test_pyclem/Maskrcnn_evaluation/mdamb231_pitstop2_D1_cell001_inv/x011y018.tif\n",
      "Running evaluation on  /mnt/storage/data/prem/20250226_gb1_D1-D2/mdamb231_pitstop2_D1D2/test_pyclem/Maskrcnn_evaluation/mdamb231_pitstop2_D1_cell001_inv/x005y002.tif\n",
      "Running evaluation on  /mnt/storage/data/prem/20250226_gb1_D1-D2/mdamb231_pitstop2_D1D2/test_pyclem/Maskrcnn_evaluation/mdamb231_pitstop2_D1_cell001_inv/x011y001.tif\n",
      "Running evaluation on  /mnt/storage/data/prem/20250226_gb1_D1-D2/mdamb231_pitstop2_D1D2/test_pyclem/Maskrcnn_evaluation/mdamb231_pitstop2_D1_cell001_inv/x010y018.tif\n",
      "Running evaluation on  /mnt/storage/data/prem/20250226_gb1_D1-D2/mdamb231_pitstop2_D1D2/test_pyclem/Maskrcnn_evaluation/mdamb231_pitstop2_D1_cell001_inv/x012y005.tif\n",
      "Running evaluation on  /mnt/storage/data/prem/20250226_gb1_D1-D2/mdamb231_pitstop2_D1D2/test_pyclem/Maskrcnn_evaluation/mdamb231_pitstop2_D1_cell001_inv/x001y001.tif\n",
      "Running evaluation on  /mnt/storage/data/prem/20250226_gb1_D1-D2/mdamb231_pitstop2_D1D2/test_pyclem/Maskrcnn_evaluation/mdamb231_pitstop2_D1_cell001_inv/x008y019.tif\n",
      "Running evaluation on  /mnt/storage/data/prem/20250226_gb1_D1-D2/mdamb231_pitstop2_D1D2/test_pyclem/Maskrcnn_evaluation/mdamb231_pitstop2_D1_cell001_inv/x011y014.tif\n",
      "Running evaluation on  /mnt/storage/data/prem/20250226_gb1_D1-D2/mdamb231_pitstop2_D1D2/test_pyclem/Maskrcnn_evaluation/mdamb231_pitstop2_D1_cell001_inv/x004y011.tif\n",
      "Running evaluation on  /mnt/storage/data/prem/20250226_gb1_D1-D2/mdamb231_pitstop2_D1D2/test_pyclem/Maskrcnn_evaluation/mdamb231_pitstop2_D1_cell001_inv/x012y014.tif\n",
      "Running evaluation on  /mnt/storage/data/prem/20250226_gb1_D1-D2/mdamb231_pitstop2_D1D2/test_pyclem/Maskrcnn_evaluation/mdamb231_pitstop2_D1_cell001_inv/x004y004.tif\n",
      "Running evaluation on  /mnt/storage/data/prem/20250226_gb1_D1-D2/mdamb231_pitstop2_D1D2/test_pyclem/Maskrcnn_evaluation/mdamb231_pitstop2_D1_cell001_inv/x002y002.tif\n",
      "Running evaluation on  /mnt/storage/data/prem/20250226_gb1_D1-D2/mdamb231_pitstop2_D1D2/test_pyclem/Maskrcnn_evaluation/mdamb231_pitstop2_D1_cell001_inv/x010y015.tif\n",
      "Running evaluation on  /mnt/storage/data/prem/20250226_gb1_D1-D2/mdamb231_pitstop2_D1D2/test_pyclem/Maskrcnn_evaluation/mdamb231_pitstop2_D1_cell001_inv/x001y003.tif\n",
      "Running evaluation on  /mnt/storage/data/prem/20250226_gb1_D1-D2/mdamb231_pitstop2_D1D2/test_pyclem/Maskrcnn_evaluation/mdamb231_pitstop2_D1_cell001_inv/x010y002.tif\n",
      "Running evaluation on  /mnt/storage/data/prem/20250226_gb1_D1-D2/mdamb231_pitstop2_D1D2/test_pyclem/Maskrcnn_evaluation/mdamb231_pitstop2_D1_cell001_inv/x012y010.tif\n",
      "Running evaluation on  /mnt/storage/data/prem/20250226_gb1_D1-D2/mdamb231_pitstop2_D1D2/test_pyclem/Maskrcnn_evaluation/mdamb231_pitstop2_D1_cell001_inv/x012y011.tif\n",
      "Running evaluation on  /mnt/storage/data/prem/20250226_gb1_D1-D2/mdamb231_pitstop2_D1D2/test_pyclem/Maskrcnn_evaluation/mdamb231_pitstop2_D1_cell001_inv/x007y008.tif\n",
      "Running evaluation on  /mnt/storage/data/prem/20250226_gb1_D1-D2/mdamb231_pitstop2_D1D2/test_pyclem/Maskrcnn_evaluation/mdamb231_pitstop2_D1_cell001_inv/x005y018.tif\n",
      "Running evaluation on  /mnt/storage/data/prem/20250226_gb1_D1-D2/mdamb231_pitstop2_D1D2/test_pyclem/Maskrcnn_evaluation/mdamb231_pitstop2_D1_cell001_inv/x003y019.tif\n",
      "Running evaluation on  /mnt/storage/data/prem/20250226_gb1_D1-D2/mdamb231_pitstop2_D1D2/test_pyclem/Maskrcnn_evaluation/mdamb231_pitstop2_D1_cell001_inv/x001y017.tif\n",
      "Running evaluation on  /mnt/storage/data/prem/20250226_gb1_D1-D2/mdamb231_pitstop2_D1D2/test_pyclem/Maskrcnn_evaluation/mdamb231_pitstop2_D1_cell001_inv/x003y016.tif\n",
      "Running evaluation on  /mnt/storage/data/prem/20250226_gb1_D1-D2/mdamb231_pitstop2_D1D2/test_pyclem/Maskrcnn_evaluation/mdamb231_pitstop2_D1_cell001_inv/x012y015.tif\n",
      "Running evaluation on  /mnt/storage/data/prem/20250226_gb1_D1-D2/mdamb231_pitstop2_D1D2/test_pyclem/Maskrcnn_evaluation/mdamb231_pitstop2_D1_cell001_inv/x008y016.tif\n",
      "Running evaluation on  /mnt/storage/data/prem/20250226_gb1_D1-D2/mdamb231_pitstop2_D1D2/test_pyclem/Maskrcnn_evaluation/mdamb231_pitstop2_D1_cell001_inv/x001y015.tif\n",
      "Running evaluation on  /mnt/storage/data/prem/20250226_gb1_D1-D2/mdamb231_pitstop2_D1D2/test_pyclem/Maskrcnn_evaluation/mdamb231_pitstop2_D1_cell001_inv/x009y001.tif\n",
      "Running evaluation on  /mnt/storage/data/prem/20250226_gb1_D1-D2/mdamb231_pitstop2_D1D2/test_pyclem/Maskrcnn_evaluation/mdamb231_pitstop2_D1_cell001_inv/x006y001.tif\n",
      "Running evaluation on  /mnt/storage/data/prem/20250226_gb1_D1-D2/mdamb231_pitstop2_D1D2/test_pyclem/Maskrcnn_evaluation/mdamb231_pitstop2_D1_cell001_inv/x010y013.tif\n",
      "Running evaluation on  /mnt/storage/data/prem/20250226_gb1_D1-D2/mdamb231_pitstop2_D1D2/test_pyclem/Maskrcnn_evaluation/mdamb231_pitstop2_D1_cell001_inv/x006y019.tif\n",
      "Running evaluation on  /mnt/storage/data/prem/20250226_gb1_D1-D2/mdamb231_pitstop2_D1D2/test_pyclem/Maskrcnn_evaluation/mdamb231_pitstop2_D1_cell001_inv/x004y006.tif\n",
      "Running evaluation on  /mnt/storage/data/prem/20250226_gb1_D1-D2/mdamb231_pitstop2_D1D2/test_pyclem/Maskrcnn_evaluation/mdamb231_pitstop2_D1_cell001_inv/x007y020.tif\n",
      "Running evaluation on  /mnt/storage/data/prem/20250226_gb1_D1-D2/mdamb231_pitstop2_D1D2/test_pyclem/Maskrcnn_evaluation/mdamb231_pitstop2_D1_cell001_inv/x010y020.tif\n",
      "Running evaluation on  /mnt/storage/data/prem/20250226_gb1_D1-D2/mdamb231_pitstop2_D1D2/test_pyclem/Maskrcnn_evaluation/mdamb231_pitstop2_D1_cell001_inv/x005y020.tif\n",
      "Running evaluation on  /mnt/storage/data/prem/20250226_gb1_D1-D2/mdamb231_pitstop2_D1D2/test_pyclem/Maskrcnn_evaluation/mdamb231_pitstop2_D1_cell001_inv/x007y012.tif\n",
      "Running evaluation on  /mnt/storage/data/prem/20250226_gb1_D1-D2/mdamb231_pitstop2_D1D2/test_pyclem/Maskrcnn_evaluation/mdamb231_pitstop2_D1_cell001_inv/x012y001.tif\n",
      "Running evaluation on  /mnt/storage/data/prem/20250226_gb1_D1-D2/mdamb231_pitstop2_D1D2/test_pyclem/Maskrcnn_evaluation/mdamb231_pitstop2_D1_cell001_inv/x008y009.tif\n",
      "Running evaluation on  /mnt/storage/data/prem/20250226_gb1_D1-D2/mdamb231_pitstop2_D1D2/test_pyclem/Maskrcnn_evaluation/mdamb231_pitstop2_D1_cell001_inv/x010y001.tif\n",
      "Running evaluation on  /mnt/storage/data/prem/20250226_gb1_D1-D2/mdamb231_pitstop2_D1D2/test_pyclem/Maskrcnn_evaluation/mdamb231_pitstop2_D1_cell001_inv/x009y012.tif\n",
      "Running evaluation on  /mnt/storage/data/prem/20250226_gb1_D1-D2/mdamb231_pitstop2_D1D2/test_pyclem/Maskrcnn_evaluation/mdamb231_pitstop2_D1_cell001_inv/x009y006.tif\n",
      "Running evaluation on  /mnt/storage/data/prem/20250226_gb1_D1-D2/mdamb231_pitstop2_D1D2/test_pyclem/Maskrcnn_evaluation/mdamb231_pitstop2_D1_cell001_inv/x010y009.tif\n",
      "Running evaluation on  /mnt/storage/data/prem/20250226_gb1_D1-D2/mdamb231_pitstop2_D1D2/test_pyclem/Maskrcnn_evaluation/mdamb231_pitstop2_D1_cell001_inv/x006y004.tif\n",
      "Running evaluation on  /mnt/storage/data/prem/20250226_gb1_D1-D2/mdamb231_pitstop2_D1D2/test_pyclem/Maskrcnn_evaluation/mdamb231_pitstop2_D1_cell001_inv/x004y021.tif\n",
      "Running evaluation on  /mnt/storage/data/prem/20250226_gb1_D1-D2/mdamb231_pitstop2_D1D2/test_pyclem/Maskrcnn_evaluation/mdamb231_pitstop2_D1_cell001_inv/x007y017.tif\n",
      "Running evaluation on  /mnt/storage/data/prem/20250226_gb1_D1-D2/mdamb231_pitstop2_D1D2/test_pyclem/Maskrcnn_evaluation/mdamb231_pitstop2_D1_cell001_inv/x012y012.tif\n",
      "Running evaluation on  /mnt/storage/data/prem/20250226_gb1_D1-D2/mdamb231_pitstop2_D1D2/test_pyclem/Maskrcnn_evaluation/mdamb231_pitstop2_D1_cell001_inv/x004y002.tif\n",
      "Running evaluation on  /mnt/storage/data/prem/20250226_gb1_D1-D2/mdamb231_pitstop2_D1D2/test_pyclem/Maskrcnn_evaluation/mdamb231_pitstop2_D1_cell001_inv/x007y010.tif\n",
      "Running evaluation on  /mnt/storage/data/prem/20250226_gb1_D1-D2/mdamb231_pitstop2_D1D2/test_pyclem/Maskrcnn_evaluation/mdamb231_pitstop2_D1_cell001_inv/x007y016.tif\n",
      "Running evaluation on  /mnt/storage/data/prem/20250226_gb1_D1-D2/mdamb231_pitstop2_D1D2/test_pyclem/Maskrcnn_evaluation/mdamb231_pitstop2_D1_cell001_inv/x006y008.tif\n",
      "Running evaluation on  /mnt/storage/data/prem/20250226_gb1_D1-D2/mdamb231_pitstop2_D1D2/test_pyclem/Maskrcnn_evaluation/mdamb231_pitstop2_D1_cell001_inv/x002y010.tif\n",
      "Running evaluation on  /mnt/storage/data/prem/20250226_gb1_D1-D2/mdamb231_pitstop2_D1D2/test_pyclem/Maskrcnn_evaluation/mdamb231_pitstop2_D1_cell001_inv/x011y019.tif\n",
      "Running evaluation on  /mnt/storage/data/prem/20250226_gb1_D1-D2/mdamb231_pitstop2_D1D2/test_pyclem/Maskrcnn_evaluation/mdamb231_pitstop2_D1_cell001_inv/x008y007.tif\n",
      "Running evaluation on  /mnt/storage/data/prem/20250226_gb1_D1-D2/mdamb231_pitstop2_D1D2/test_pyclem/Maskrcnn_evaluation/mdamb231_pitstop2_D1_cell001_inv/x002y004.tif\n",
      "Running evaluation on  /mnt/storage/data/prem/20250226_gb1_D1-D2/mdamb231_pitstop2_D1D2/test_pyclem/Maskrcnn_evaluation/mdamb231_pitstop2_D1_cell001_inv/x008y021.tif\n",
      "Running evaluation on  /mnt/storage/data/prem/20250226_gb1_D1-D2/mdamb231_pitstop2_D1D2/test_pyclem/Maskrcnn_evaluation/mdamb231_pitstop2_D1_cell001_inv/x006y018.tif\n",
      "Running evaluation on  /mnt/storage/data/prem/20250226_gb1_D1-D2/mdamb231_pitstop2_D1D2/test_pyclem/Maskrcnn_evaluation/mdamb231_pitstop2_D1_cell001_inv/x002y013.tif\n",
      "Running evaluation on  /mnt/storage/data/prem/20250226_gb1_D1-D2/mdamb231_pitstop2_D1D2/test_pyclem/Maskrcnn_evaluation/mdamb231_pitstop2_D1_cell001_inv/x011y005.tif\n",
      "Running evaluation on  /mnt/storage/data/prem/20250226_gb1_D1-D2/mdamb231_pitstop2_D1D2/test_pyclem/Maskrcnn_evaluation/mdamb231_pitstop2_D1_cell001_inv/x007y019.tif\n",
      "Running evaluation on  /mnt/storage/data/prem/20250226_gb1_D1-D2/mdamb231_pitstop2_D1D2/test_pyclem/Maskrcnn_evaluation/mdamb231_pitstop2_D1_cell001_inv/x009y016.tif\n",
      "Running evaluation on  /mnt/storage/data/prem/20250226_gb1_D1-D2/mdamb231_pitstop2_D1D2/test_pyclem/Maskrcnn_evaluation/mdamb231_pitstop2_D1_cell001_inv/x003y002.tif\n",
      "Running evaluation on  /mnt/storage/data/prem/20250226_gb1_D1-D2/mdamb231_pitstop2_D1D2/test_pyclem/Maskrcnn_evaluation/mdamb231_pitstop2_D1_cell001_inv/x002y017.tif\n",
      "Running evaluation on  /mnt/storage/data/prem/20250226_gb1_D1-D2/mdamb231_pitstop2_D1D2/test_pyclem/Maskrcnn_evaluation/mdamb231_pitstop2_D1_cell001_inv/x003y014.tif\n",
      "Running evaluation on  /mnt/storage/data/prem/20250226_gb1_D1-D2/mdamb231_pitstop2_D1D2/test_pyclem/Maskrcnn_evaluation/mdamb231_pitstop2_D1_cell001_inv/x011y006.tif\n",
      "Running evaluation on  /mnt/storage/data/prem/20250226_gb1_D1-D2/mdamb231_pitstop2_D1D2/test_pyclem/Maskrcnn_evaluation/mdamb231_pitstop2_D1_cell001_inv/x002y011.tif\n",
      "Running evaluation on  /mnt/storage/data/prem/20250226_gb1_D1-D2/mdamb231_pitstop2_D1D2/test_pyclem/Maskrcnn_evaluation/mdamb231_pitstop2_D1_cell001_inv/x003y009.tif\n",
      "Running evaluation on  /mnt/storage/data/prem/20250226_gb1_D1-D2/mdamb231_pitstop2_D1D2/test_pyclem/Maskrcnn_evaluation/mdamb231_pitstop2_D1_cell001_inv/x012y003.tif\n",
      "Running evaluation on  /mnt/storage/data/prem/20250226_gb1_D1-D2/mdamb231_pitstop2_D1D2/test_pyclem/Maskrcnn_evaluation/mdamb231_pitstop2_D1_cell001_inv/x011y010.tif\n",
      "Running evaluation on  /mnt/storage/data/prem/20250226_gb1_D1-D2/mdamb231_pitstop2_D1D2/test_pyclem/Maskrcnn_evaluation/mdamb231_pitstop2_D1_cell001_inv/x006y014.tif\n",
      "Running evaluation on  /mnt/storage/data/prem/20250226_gb1_D1-D2/mdamb231_pitstop2_D1D2/test_pyclem/Maskrcnn_evaluation/mdamb231_pitstop2_D1_cell001_inv/x011y009.tif\n",
      "Running evaluation on  /mnt/storage/data/prem/20250226_gb1_D1-D2/mdamb231_pitstop2_D1D2/test_pyclem/Maskrcnn_evaluation/mdamb231_pitstop2_D1_cell001_inv/x005y017.tif\n",
      "Running evaluation on  /mnt/storage/data/prem/20250226_gb1_D1-D2/mdamb231_pitstop2_D1D2/test_pyclem/Maskrcnn_evaluation/mdamb231_pitstop2_D1_cell001_inv/x007y015.tif\n",
      "Running evaluation on  /mnt/storage/data/prem/20250226_gb1_D1-D2/mdamb231_pitstop2_D1D2/test_pyclem/Maskrcnn_evaluation/mdamb231_pitstop2_D1_cell001_inv/x008y017.tif\n",
      "Running evaluation on  /mnt/storage/data/prem/20250226_gb1_D1-D2/mdamb231_pitstop2_D1D2/test_pyclem/Maskrcnn_evaluation/mdamb231_pitstop2_D1_cell001_inv/x001y014.tif\n",
      "Running evaluation on  /mnt/storage/data/prem/20250226_gb1_D1-D2/mdamb231_pitstop2_D1D2/test_pyclem/Maskrcnn_evaluation/mdamb231_pitstop2_D1_cell001_inv/x004y007.tif\n",
      "Running evaluation on  /mnt/storage/data/prem/20250226_gb1_D1-D2/mdamb231_pitstop2_D1D2/test_pyclem/Maskrcnn_evaluation/mdamb231_pitstop2_D1_cell001_inv/x002y012.tif\n",
      "Running evaluation on  /mnt/storage/data/prem/20250226_gb1_D1-D2/mdamb231_pitstop2_D1D2/test_pyclem/Maskrcnn_evaluation/mdamb231_pitstop2_D1_cell001_inv/x011y021.tif\n",
      "Running evaluation on  /mnt/storage/data/prem/20250226_gb1_D1-D2/mdamb231_pitstop2_D1D2/test_pyclem/Maskrcnn_evaluation/mdamb231_pitstop2_D1_cell001_inv/x012y020.tif\n",
      "Running evaluation on  /mnt/storage/data/prem/20250226_gb1_D1-D2/mdamb231_pitstop2_D1D2/test_pyclem/Maskrcnn_evaluation/mdamb231_pitstop2_D1_cell001_inv/x008y020.tif\n",
      "Running evaluation on  /mnt/storage/data/prem/20250226_gb1_D1-D2/mdamb231_pitstop2_D1D2/test_pyclem/Maskrcnn_evaluation/mdamb231_pitstop2_D1_cell001_inv/x001y006.tif\n",
      "Running evaluation on  /mnt/storage/data/prem/20250226_gb1_D1-D2/mdamb231_pitstop2_D1D2/test_pyclem/Maskrcnn_evaluation/mdamb231_pitstop2_D1_cell001_inv/x002y018.tif\n",
      "Running evaluation on  /mnt/storage/data/prem/20250226_gb1_D1-D2/mdamb231_pitstop2_D1D2/test_pyclem/Maskrcnn_evaluation/mdamb231_pitstop2_D1_cell001_inv/x011y015.tif\n",
      "Running evaluation on  /mnt/storage/data/prem/20250226_gb1_D1-D2/mdamb231_pitstop2_D1D2/test_pyclem/Maskrcnn_evaluation/mdamb231_pitstop2_D1_cell001_inv/x004y003.tif\n",
      "Running evaluation on  /mnt/storage/data/prem/20250226_gb1_D1-D2/mdamb231_pitstop2_D1D2/test_pyclem/Maskrcnn_evaluation/mdamb231_pitstop2_D1_cell001_inv/x006y003.tif\n",
      "Run Mask R-CNN post-processing!\n",
      "Reassembling mask for mdamb231_pitstop2_D1_cell001_inv.tif\n"
     ]
    }
   ],
   "source": [
    "from pyclem.prem_seg.main import main\n",
    "\n",
    "main()"
   ]
  },
  {
   "cell_type": "markdown",
   "id": "a7a3349a9d413e88",
   "metadata": {
    "collapsed": false,
    "jupyter": {
     "outputs_hidden": false
    }
   },
   "source": [
    "## 5.2 Manually correct (or create from scratch) segmentation\n",
    "The automatic segmentation is not perfect and often needs manual correction.\n",
    "To this end, use the Napari widget \"checkseg\" included in the pyclem package.\n",
    "\n",
    "1. Open a napari viewer and add the widget (see code below)\n",
    "2. Select an (inverted) EM-image\n",
    "   - The paramter tile size defines the size of image tiles in µm. Default is 3x3 µm.\n",
    "3. Click **\"Start\"**\n",
    "   - checkseg_widget will automatically open the corresponding segmentation mask (if it exists in the same folder)\n",
    "        - The segmentation mask will be translated into three shapes layers: \"Domes\", \"Flats\", \"Spheres\"\n",
    "   - checkseg_widget will automatically consider the cellmask (if it exists in the same folder)\n",
    "   - checkseg_widget will automatically progress to the first tile containing relevant data (i.e. not excluded by the cellmask, if available)\n",
    "4. Use Napari shapes functionalities to correct segmentation results in current tile\n",
    "5. When done, click **\"Next\"** to progress to the next tile\n",
    "6. When done with all tiles, checkseg_widget will show the whole cell without tiles for a final check.\n",
    "7. When done, click **\"Finish and Save\"** to translate the shapes into an RGB-mask and save it as a tif-file with the addendum \"..._segmask_check.tif\".\n"
   ]
  },
  {
   "cell_type": "code",
   "execution_count": 2,
   "id": "1ddc735285e988c9",
   "metadata": {
    "collapsed": false,
    "jupyter": {
     "outputs_hidden": false
    }
   },
   "outputs": [],
   "source": [
    "from pyclem.checkseg import checkseg_main\n",
    "\n",
    "checkseg_main()"
   ]
  },
  {
   "cell_type": "markdown",
   "id": "9415fafe0ac15d1",
   "metadata": {
    "collapsed": false,
    "jupyter": {
     "outputs_hidden": false
    }
   },
   "source": [
    "## 6. Get statistics"
   ]
  },
  {
   "cell_type": "code",
   "execution_count": null,
   "id": "103cb670ee192c45",
   "metadata": {
    "collapsed": false,
    "jupyter": {
     "outputs_hidden": false
    }
   },
   "outputs": [],
   "source": []
  }
 ],
 "metadata": {
  "kernelspec": {
   "display_name": "Python 3 (ipykernel)",
   "language": "python",
   "name": "python3"
  },
  "language_info": {
   "codemirror_mode": {
    "name": "ipython",
    "version": 3
   },
   "file_extension": ".py",
   "mimetype": "text/x-python",
   "name": "python",
   "nbconvert_exporter": "python",
   "pygments_lexer": "ipython3",
   "version": "3.10.16"
  }
 },
 "nbformat": 4,
 "nbformat_minor": 5
}
